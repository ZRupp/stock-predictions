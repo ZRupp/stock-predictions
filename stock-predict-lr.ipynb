{
 "cells": [
  {
   "cell_type": "markdown",
   "metadata": {},
   "source": [
    "# Predicting S&P 500 Closing Prices\n",
    "\n",
    "The project is an attempt to predict closing prices of the S&P 500 using historical data dating back to the 1950s. The goal of the project is to minimize the error metric as much as possible. I'm doing this for practice, and not for implementation. Even if the predictions are fairly accurate, the results will likely not generalize well to external data, so if anyone has stumbled upon this hoping to use it for investment, DON'T! "
   ]
  },
  {
   "cell_type": "markdown",
   "metadata": {},
   "source": [
    "# Introducing the Data"
   ]
  },
  {
   "cell_type": "code",
   "execution_count": 1,
   "metadata": {},
   "outputs": [
    {
     "name": "stdout",
     "output_type": "stream",
     "text": [
      "(16590, 7)\n"
     ]
    },
    {
     "data": {
      "text/html": [
       "<div>\n",
       "<style scoped>\n",
       "    .dataframe tbody tr th:only-of-type {\n",
       "        vertical-align: middle;\n",
       "    }\n",
       "\n",
       "    .dataframe tbody tr th {\n",
       "        vertical-align: top;\n",
       "    }\n",
       "\n",
       "    .dataframe thead th {\n",
       "        text-align: right;\n",
       "    }\n",
       "</style>\n",
       "<table border=\"1\" class=\"dataframe\">\n",
       "  <thead>\n",
       "    <tr style=\"text-align: right;\">\n",
       "      <th></th>\n",
       "      <th>Date</th>\n",
       "      <th>Open</th>\n",
       "      <th>High</th>\n",
       "      <th>Low</th>\n",
       "      <th>Close</th>\n",
       "      <th>Volume</th>\n",
       "      <th>Adj Close</th>\n",
       "    </tr>\n",
       "  </thead>\n",
       "  <tbody>\n",
       "    <tr>\n",
       "      <th>0</th>\n",
       "      <td>2015-12-07</td>\n",
       "      <td>2090.419922</td>\n",
       "      <td>2090.419922</td>\n",
       "      <td>2066.780029</td>\n",
       "      <td>2077.070068</td>\n",
       "      <td>4.043820e+09</td>\n",
       "      <td>2077.070068</td>\n",
       "    </tr>\n",
       "    <tr>\n",
       "      <th>1</th>\n",
       "      <td>2015-12-04</td>\n",
       "      <td>2051.239990</td>\n",
       "      <td>2093.840088</td>\n",
       "      <td>2051.239990</td>\n",
       "      <td>2091.689941</td>\n",
       "      <td>4.214910e+09</td>\n",
       "      <td>2091.689941</td>\n",
       "    </tr>\n",
       "    <tr>\n",
       "      <th>2</th>\n",
       "      <td>2015-12-03</td>\n",
       "      <td>2080.709961</td>\n",
       "      <td>2085.000000</td>\n",
       "      <td>2042.349976</td>\n",
       "      <td>2049.620117</td>\n",
       "      <td>4.306490e+09</td>\n",
       "      <td>2049.620117</td>\n",
       "    </tr>\n",
       "    <tr>\n",
       "      <th>3</th>\n",
       "      <td>2015-12-02</td>\n",
       "      <td>2101.709961</td>\n",
       "      <td>2104.270020</td>\n",
       "      <td>2077.110107</td>\n",
       "      <td>2079.510010</td>\n",
       "      <td>3.950640e+09</td>\n",
       "      <td>2079.510010</td>\n",
       "    </tr>\n",
       "    <tr>\n",
       "      <th>4</th>\n",
       "      <td>2015-12-01</td>\n",
       "      <td>2082.929932</td>\n",
       "      <td>2103.370117</td>\n",
       "      <td>2082.929932</td>\n",
       "      <td>2102.629883</td>\n",
       "      <td>3.712120e+09</td>\n",
       "      <td>2102.629883</td>\n",
       "    </tr>\n",
       "  </tbody>\n",
       "</table>\n",
       "</div>"
      ],
      "text/plain": [
       "         Date         Open         High          Low        Close  \\\n",
       "0  2015-12-07  2090.419922  2090.419922  2066.780029  2077.070068   \n",
       "1  2015-12-04  2051.239990  2093.840088  2051.239990  2091.689941   \n",
       "2  2015-12-03  2080.709961  2085.000000  2042.349976  2049.620117   \n",
       "3  2015-12-02  2101.709961  2104.270020  2077.110107  2079.510010   \n",
       "4  2015-12-01  2082.929932  2103.370117  2082.929932  2102.629883   \n",
       "\n",
       "         Volume    Adj Close  \n",
       "0  4.043820e+09  2077.070068  \n",
       "1  4.214910e+09  2091.689941  \n",
       "2  4.306490e+09  2049.620117  \n",
       "3  3.950640e+09  2079.510010  \n",
       "4  3.712120e+09  2102.629883  "
      ]
     },
     "execution_count": 1,
     "metadata": {},
     "output_type": "execute_result"
    }
   ],
   "source": [
    "import pandas as pd\n",
    "import numpy as np\n",
    "import datetime \n",
    "from sklearn.metrics import mean_squared_error, mean_absolute_error, r2_score\n",
    "from sklearn.linear_model import LinearRegression\n",
    "\n",
    "stocks = pd.read_csv('sphist.csv')\n",
    "\n",
    "print(stocks.shape)\n",
    "stocks.head()"
   ]
  },
  {
   "cell_type": "markdown",
   "metadata": {},
   "source": [
    "The data consists of 16590 stock records from the S&P500. The seven columns are described below:\n",
    "\n",
    "\n",
    "- Date: The date of the record.\n",
    "- Open: The opening price of the day (when trading starts).\n",
    "- High: The highest trade price during the day.\n",
    "- Low: The lowest trade price during the day.\n",
    "- Close: The closing price for the day (when trading is finished).\n",
    "- Volume: The number of shares traded.\n",
    "- Adj Close: The daily closing price, adjusted retroactively to include any corporate actions.\n",
    "\n",
    "For the purpose of this mission, we'll be constructing a number of indicator columns from existing column data. We'll use the Close column as the prediction target."
   ]
  },
  {
   "cell_type": "markdown",
   "metadata": {},
   "source": [
    "# Feature Selection"
   ]
  },
  {
   "cell_type": "code",
   "execution_count": 2,
   "metadata": {},
   "outputs": [
    {
     "data": {
      "text/html": [
       "<div>\n",
       "<style scoped>\n",
       "    .dataframe tbody tr th:only-of-type {\n",
       "        vertical-align: middle;\n",
       "    }\n",
       "\n",
       "    .dataframe tbody tr th {\n",
       "        vertical-align: top;\n",
       "    }\n",
       "\n",
       "    .dataframe thead th {\n",
       "        text-align: right;\n",
       "    }\n",
       "</style>\n",
       "<table border=\"1\" class=\"dataframe\">\n",
       "  <thead>\n",
       "    <tr style=\"text-align: right;\">\n",
       "      <th></th>\n",
       "      <th>Date</th>\n",
       "      <th>Open</th>\n",
       "      <th>High</th>\n",
       "      <th>Low</th>\n",
       "      <th>Close</th>\n",
       "      <th>Volume</th>\n",
       "      <th>Adj Close</th>\n",
       "    </tr>\n",
       "  </thead>\n",
       "  <tbody>\n",
       "    <tr>\n",
       "      <th>16589</th>\n",
       "      <td>1950-01-03</td>\n",
       "      <td>16.66</td>\n",
       "      <td>16.66</td>\n",
       "      <td>16.66</td>\n",
       "      <td>16.66</td>\n",
       "      <td>1260000.0</td>\n",
       "      <td>16.66</td>\n",
       "    </tr>\n",
       "    <tr>\n",
       "      <th>16588</th>\n",
       "      <td>1950-01-04</td>\n",
       "      <td>16.85</td>\n",
       "      <td>16.85</td>\n",
       "      <td>16.85</td>\n",
       "      <td>16.85</td>\n",
       "      <td>1890000.0</td>\n",
       "      <td>16.85</td>\n",
       "    </tr>\n",
       "    <tr>\n",
       "      <th>16587</th>\n",
       "      <td>1950-01-05</td>\n",
       "      <td>16.93</td>\n",
       "      <td>16.93</td>\n",
       "      <td>16.93</td>\n",
       "      <td>16.93</td>\n",
       "      <td>2550000.0</td>\n",
       "      <td>16.93</td>\n",
       "    </tr>\n",
       "    <tr>\n",
       "      <th>16586</th>\n",
       "      <td>1950-01-06</td>\n",
       "      <td>16.98</td>\n",
       "      <td>16.98</td>\n",
       "      <td>16.98</td>\n",
       "      <td>16.98</td>\n",
       "      <td>2010000.0</td>\n",
       "      <td>16.98</td>\n",
       "    </tr>\n",
       "    <tr>\n",
       "      <th>16585</th>\n",
       "      <td>1950-01-09</td>\n",
       "      <td>17.08</td>\n",
       "      <td>17.08</td>\n",
       "      <td>17.08</td>\n",
       "      <td>17.08</td>\n",
       "      <td>2520000.0</td>\n",
       "      <td>17.08</td>\n",
       "    </tr>\n",
       "  </tbody>\n",
       "</table>\n",
       "</div>"
      ],
      "text/plain": [
       "            Date   Open   High    Low  Close     Volume  Adj Close\n",
       "16589 1950-01-03  16.66  16.66  16.66  16.66  1260000.0      16.66\n",
       "16588 1950-01-04  16.85  16.85  16.85  16.85  1890000.0      16.85\n",
       "16587 1950-01-05  16.93  16.93  16.93  16.93  2550000.0      16.93\n",
       "16586 1950-01-06  16.98  16.98  16.98  16.98  2010000.0      16.98\n",
       "16585 1950-01-09  17.08  17.08  17.08  17.08  2520000.0      17.08"
      ]
     },
     "execution_count": 2,
     "metadata": {},
     "output_type": "execute_result"
    }
   ],
   "source": [
    "# Convert values in 'Date' column to datetime objects\n",
    "stocks['Date'] = pd.to_datetime(stocks['Date'])\n",
    "\n",
    "# Sort dataframe by date\n",
    "stocks.sort_values('Date', ascending=True, inplace=True)\n",
    "\n",
    "stocks.head()"
   ]
  },
  {
   "cell_type": "code",
   "execution_count": 3,
   "metadata": {},
   "outputs": [],
   "source": [
    "# Indicator 1: average (avg) price for past 5 days\n",
    "stocks['avg_day_5'] = stocks['Close'].shift(1).rolling(5).mean()\n",
    "\n",
    "# Indicator 2: standard deviation (std) of the price over the past 5 days\n",
    "stocks['std_day_5'] = stocks['Close'].shift(1).rolling(5).std()\n",
    "\n",
    "# Indicator 3: avg price for past 30 days\n",
    "stocks['avg_day_30'] = stocks['Close'].shift(1).rolling(30).mean()\n",
    "\n",
    "# Indicator 4: std price for past 30 days\n",
    "stocks['std_day_30'] = stocks['Close'].shift(1).rolling(30).std()\n",
    "\n",
    "# Indicator 5: avg price for past 365 days\n",
    "stocks['avg_day_365'] = stocks['Close'].shift(1).rolling(365).mean()\n",
    "\n",
    "# Indicator 6: std price for past 365 days\n",
    "stocks['std_day_365'] = stocks['Close'].shift(1).rolling(365).std()\n",
    "\n",
    "# Indicator 7: ratio of average price from last 5 days to average price from last 365 days\n",
    "stocks['avg_day_5_to_365'] = stocks['avg_day_5']/stocks['avg_day_365']\n",
    "\n",
    "# Indicator 8: avg price past 30 days / avg price past 365 days\n",
    "stocks['avg_day_30_to_365'] = stocks['avg_day_30']/stocks['avg_day_365']\n",
    "\n",
    "# Indicator 9: std price past 5 days / std past 365 days\n",
    "stocks['std_day_5_to_365'] = stocks['std_day_5']/stocks['std_day_365']\n",
    "\n",
    "# Indicator 10: std price past 30 days / std past 365 days\n",
    "stocks['std_day_30_to_365'] = stocks['std_day_30']/stocks['std_day_365']\n",
    "\n",
    "# Indicator 11: year\n",
    "stocks['year'] = pd.DatetimeIndex(stocks['Date']).year\n",
    "\n",
    "# Indicator 12: day\n",
    "stocks['day'] = pd.DatetimeIndex(stocks['Date']).day"
   ]
  },
  {
   "cell_type": "markdown",
   "metadata": {},
   "source": [
    "There are probably far too many indicators here for the model to be reliable. I've only constructed all of these columns for now so that I can experiment with them and eliminate those that don't work well. In the future we probably want to normalize the features because the error metrics here may be misleading with the data in its current state."
   ]
  },
  {
   "cell_type": "code",
   "execution_count": 4,
   "metadata": {},
   "outputs": [],
   "source": [
    "# Remove columns without enough historical data for calculations\n",
    "stocks.dropna(axis=0, inplace=True)"
   ]
  },
  {
   "cell_type": "markdown",
   "metadata": {},
   "source": [
    "# Building the Model\n",
    "\n",
    "For now, we'll split the data into a training set consisting of all data prior to 2013 and a test set consisting of all data post 2013. The original dataset spans from the 1950s to 2015. A test set with two years of data is probably not the best choice for stock predictions, but we'll use that timespan for now and then shorten it to a single day later."
   ]
  },
  {
   "cell_type": "code",
   "execution_count": 5,
   "metadata": {},
   "outputs": [
    {
     "name": "stdout",
     "output_type": "stream",
     "text": [
      "MAE: 16.243928008109048 \n",
      "MSE: 493.5492954594102 \n",
      "RMSE: 22.21596937924182 \n",
      "R2: 0.9866476448205508\n"
     ]
    }
   ],
   "source": [
    "# Split data into train and test sets\n",
    "train = stocks[stocks['Date'] < datetime.datetime(year=2013, month=1, day=1)]\n",
    "test = stocks[stocks['Date'] >= datetime.datetime(year=2013, month=1, day=1)]\n",
    "\n",
    "# Initiate Linear Regression model\n",
    "model = LinearRegression()\n",
    "\n",
    "# Set features and target column\n",
    "target = 'Close'\n",
    "features = train.drop(columns = ['Close', \n",
    "                                'High', \n",
    "                                'Low', \n",
    "                                'Open', \n",
    "                                'Volume', \n",
    "                                'Adj Close', \n",
    "                                'Date']\n",
    "                     ).columns\n",
    "\n",
    "# Fit model\n",
    "model.fit(train[features], train[target])\n",
    "\n",
    "# Make predictions\n",
    "predictions = model.predict(test[features])\n",
    "\n",
    "# Calculate error metrics\n",
    "mae = mean_absolute_error(test[target], predictions)\n",
    "mse = mean_squared_error(test[target], predictions)\n",
    "rmse = np.sqrt(mse)\n",
    "r2 = r2_score(test[target], predictions)\n",
    "\n",
    "print('MAE: {0} \\nMSE: {1} \\nRMSE: {2} \\nR2: {3}'.format(mae, mse, rmse, r2))"
   ]
  },
  {
   "cell_type": "markdown",
   "metadata": {},
   "source": [
    "Using all of the indicators constructed above, we have a mean absolute error of approximately 16.2, and a root mean square error of approximately 22.2. The difference between the RMSE and MAE is not incredibly large, so though there is some variation in the magnitude of errors, there don't appear to be large inconsistencies in the predictions. We can accept then that the average difference between the predicted closing value and the actual closing value was approximately 16.2 dollars. Our R^2 value indicates that the regression line closely fits the data, but we should visualize our residuals to make sure we actually have a good fit."
   ]
  },
  {
   "cell_type": "markdown",
   "metadata": {},
   "source": [
    "# Visualizing"
   ]
  },
  {
   "cell_type": "code",
   "execution_count": 6,
   "metadata": {},
   "outputs": [
    {
     "data": {
      "image/png": "[encoded data removed]",
      "text/plain": [
       "<Figure size 432x288 with 1 Axes>"
      ]
     },
     "metadata": {
      "needs_background": "light"
     },
     "output_type": "display_data"
    }
   ],
   "source": [
    "import matplotlib.pyplot as plt\n",
    "import seaborn as sns\n",
    "%matplotlib inline\n",
    "\n",
    "sns.residplot(predictions, test[target])\n",
    "plt.xlabel('Predictions')\n",
    "plt.ylabel('Residuals')\n",
    "\n",
    "plt.show()"
   ]
  },
  {
   "cell_type": "markdown",
   "metadata": {},
   "source": [
    "There are a few outliers worth exploring. It may not be a big deal, since the residual plot otherwise shows a random distribution, but let's explore them anyway."
   ]
  },
  {
   "cell_type": "code",
   "execution_count": 7,
   "metadata": {},
   "outputs": [
    {
     "data": {
      "text/html": [
       "<div>\n",
       "<style scoped>\n",
       "    .dataframe tbody tr th:only-of-type {\n",
       "        vertical-align: middle;\n",
       "    }\n",
       "\n",
       "    .dataframe tbody tr th {\n",
       "        vertical-align: top;\n",
       "    }\n",
       "\n",
       "    .dataframe thead th {\n",
       "        text-align: right;\n",
       "    }\n",
       "</style>\n",
       "<table border=\"1\" class=\"dataframe\">\n",
       "  <thead>\n",
       "    <tr style=\"text-align: right;\">\n",
       "      <th></th>\n",
       "      <th>Date</th>\n",
       "      <th>Open</th>\n",
       "      <th>High</th>\n",
       "      <th>Low</th>\n",
       "      <th>Close</th>\n",
       "      <th>Volume</th>\n",
       "      <th>Adj Close</th>\n",
       "      <th>avg_day_5</th>\n",
       "      <th>std_day_5</th>\n",
       "      <th>avg_day_30</th>\n",
       "      <th>std_day_30</th>\n",
       "      <th>avg_day_365</th>\n",
       "      <th>std_day_365</th>\n",
       "      <th>avg_day_5_to_365</th>\n",
       "      <th>avg_day_30_to_365</th>\n",
       "      <th>std_day_5_to_365</th>\n",
       "      <th>std_day_30_to_365</th>\n",
       "      <th>year</th>\n",
       "      <th>day</th>\n",
       "    </tr>\n",
       "  </thead>\n",
       "  <tbody>\n",
       "    <tr>\n",
       "      <th>664</th>\n",
       "      <td>2013-04-19</td>\n",
       "      <td>1541.609985</td>\n",
       "      <td>1555.890015</td>\n",
       "      <td>1539.400024</td>\n",
       "      <td>1555.250000</td>\n",
       "      <td>3.569870e+09</td>\n",
       "      <td>1555.250000</td>\n",
       "      <td>1561.879980</td>\n",
       "      <td>19.282993</td>\n",
       "      <td>1560.449320</td>\n",
       "      <td>12.709326</td>\n",
       "      <td>1392.452327</td>\n",
       "      <td>90.806416</td>\n",
       "      <td>1.121676</td>\n",
       "      <td>1.120648</td>\n",
       "      <td>0.212353</td>\n",
       "      <td>0.139961</td>\n",
       "      <td>2013</td>\n",
       "      <td>19</td>\n",
       "    </tr>\n",
       "    <tr>\n",
       "      <th>665</th>\n",
       "      <td>2013-04-18</td>\n",
       "      <td>1552.030029</td>\n",
       "      <td>1554.380005</td>\n",
       "      <td>1536.030029</td>\n",
       "      <td>1541.609985</td>\n",
       "      <td>3.890800e+09</td>\n",
       "      <td>1541.609985</td>\n",
       "      <td>1572.231982</td>\n",
       "      <td>19.572071</td>\n",
       "      <td>1560.444320</td>\n",
       "      <td>12.717021</td>\n",
       "      <td>1391.566492</td>\n",
       "      <td>90.924353</td>\n",
       "      <td>1.129829</td>\n",
       "      <td>1.121358</td>\n",
       "      <td>0.215257</td>\n",
       "      <td>0.139864</td>\n",
       "      <td>2013</td>\n",
       "      <td>18</td>\n",
       "    </tr>\n",
       "    <tr>\n",
       "      <th>666</th>\n",
       "      <td>2013-04-17</td>\n",
       "      <td>1574.569946</td>\n",
       "      <td>1574.569946</td>\n",
       "      <td>1543.689941</td>\n",
       "      <td>1552.010010</td>\n",
       "      <td>4.250310e+09</td>\n",
       "      <td>1552.010010</td>\n",
       "      <td>1579.375976</td>\n",
       "      <td>16.645873</td>\n",
       "      <td>1560.036987</td>\n",
       "      <td>13.183637</td>\n",
       "      <td>1390.748108</td>\n",
       "      <td>90.820522</td>\n",
       "      <td>1.135631</td>\n",
       "      <td>1.121725</td>\n",
       "      <td>0.183283</td>\n",
       "      <td>0.145161</td>\n",
       "      <td>2013</td>\n",
       "      <td>17</td>\n",
       "    </tr>\n",
       "  </tbody>\n",
       "</table>\n",
       "</div>"
      ],
      "text/plain": [
       "          Date         Open         High          Low        Close  \\\n",
       "664 2013-04-19  1541.609985  1555.890015  1539.400024  1555.250000   \n",
       "665 2013-04-18  1552.030029  1554.380005  1536.030029  1541.609985   \n",
       "666 2013-04-17  1574.569946  1574.569946  1543.689941  1552.010010   \n",
       "\n",
       "           Volume    Adj Close    avg_day_5  std_day_5   avg_day_30  \\\n",
       "664  3.569870e+09  1555.250000  1561.879980  19.282993  1560.449320   \n",
       "665  3.890800e+09  1541.609985  1572.231982  19.572071  1560.444320   \n",
       "666  4.250310e+09  1552.010010  1579.375976  16.645873  1560.036987   \n",
       "\n",
       "     std_day_30  avg_day_365  std_day_365  avg_day_5_to_365  \\\n",
       "664   12.709326  1392.452327    90.806416          1.121676   \n",
       "665   12.717021  1391.566492    90.924353          1.129829   \n",
       "666   13.183637  1390.748108    90.820522          1.135631   \n",
       "\n",
       "     avg_day_30_to_365  std_day_5_to_365  std_day_30_to_365  year  day  \n",
       "664           1.120648          0.212353           0.139961  2013   19  \n",
       "665           1.121358          0.215257           0.139864  2013   18  \n",
       "666           1.121725          0.183283           0.145161  2013   17  "
      ]
     },
     "execution_count": 7,
     "metadata": {},
     "output_type": "execute_result"
    }
   ],
   "source": [
    "residuals = test[target] - predictions\n",
    "\n",
    "# Isolating outliers\n",
    "test.iloc[residuals[residuals < -100].index]"
   ]
  },
  {
   "cell_type": "markdown",
   "metadata": {},
   "source": [
    "Hmm... No idea why these three entries are so poorly predicted in comparison to the others. I'll dig into this more later. It's only three values, so I'm not too worried about their affect on the model. Let's see how the model does without them."
   ]
  },
  {
   "cell_type": "code",
   "execution_count": 8,
   "metadata": {},
   "outputs": [
    {
     "name": "stdout",
     "output_type": "stream",
     "text": [
      "MAE: 15.781378098127764 \n",
      "MSE: 425.37780568197337 \n",
      "RMSE: 20.624689226312558 \n",
      "R2: 0.9885346182689938\n"
     ]
    }
   ],
   "source": [
    "residuals = test[target] - predictions\n",
    "\n",
    "new_test = test.drop(residuals[residuals < -100].index)\n",
    "\n",
    "# Initiate Linear Regression model\n",
    "model = LinearRegression()\n",
    "\n",
    "# Set features and target column\n",
    "target = 'Close'\n",
    "features = train.drop(columns = ['Close', \n",
    "                                'High', \n",
    "                                'Low', \n",
    "                                'Open', \n",
    "                                'Volume', \n",
    "                                'Adj Close', \n",
    "                                'Date']\n",
    "                     ).columns\n",
    "\n",
    "# Fit model\n",
    "model.fit(train[features], train[target])\n",
    "\n",
    "# Make predictions\n",
    "new_predictions = model.predict(new_test[features])\n",
    "\n",
    "# Calculate error metrics\n",
    "mae = mean_absolute_error(new_test[target], new_predictions)\n",
    "mse = mean_squared_error(new_test[target], new_predictions)\n",
    "rmse = np.sqrt(mse)\n",
    "r2 = r2_score(new_test[target], new_predictions)\n",
    "\n",
    "print('MAE: {0} \\nMSE: {1} \\nRMSE: {2} \\nR2: {3}'.format(mae, mse, rmse, r2))"
   ]
  },
  {
   "cell_type": "markdown",
   "metadata": {},
   "source": [
    "The performance of the model has improved after dropping those entries. It's not a huge improvement, but I think it may warrant more investigation."
   ]
  },
  {
   "cell_type": "code",
   "execution_count": 9,
   "metadata": {},
   "outputs": [
    {
     "data": {
      "image/png": "[encoded data removed]",
      "text/plain": [
       "<Figure size 432x288 with 1 Axes>"
      ]
     },
     "metadata": {
      "needs_background": "light"
     },
     "output_type": "display_data"
    }
   ],
   "source": [
    "sns.residplot(new_predictions, new_test[target])\n",
    "plt.xlabel('Predictions')\n",
    "plt.ylabel('Residuals')\n",
    "\n",
    "plt.show()"
   ]
  },
  {
   "cell_type": "markdown",
   "metadata": {},
   "source": [
    "The residual plot suggests a good fit."
   ]
  },
  {
   "cell_type": "markdown",
   "metadata": {},
   "source": [
    "# Notes\n",
    "\n",
    "This project was conducted to practice linear regression on a dataset. The analysis of the model and its performance at this juncture is tentative and will hopefully improve as I learn more on the subject. As it stands, anybody who stumbles upon this should ABSOLUTELY NOT consult this model hoping for investment advice.\n",
    "\n",
    "### Steps for the future\n",
    "\n",
    "- Eliminate redundant features\n",
    "- More robust feature selection\n",
    "- Instead of predicting years in advance, try to predict one day ahead\n",
    "- Make plots prettier"
   ]
  }
 ],
 "metadata": {
  "kernelspec": {
   "display_name": "Python 3",
   "language": "python",
   "name": "python3"
  },
  "language_info": {
   "codemirror_mode": {
    "name": "ipython",
    "version": 3
   },
   "file_extension": ".py",
   "mimetype": "text/x-python",
   "name": "python",
   "nbconvert_exporter": "python",
   "pygments_lexer": "ipython3",
   "version": "3.7.1"
  }
 },
 "nbformat": 4,
 "nbformat_minor": 2
}
